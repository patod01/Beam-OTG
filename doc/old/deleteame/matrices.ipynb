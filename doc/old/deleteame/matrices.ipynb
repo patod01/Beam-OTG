{
 "cells": [
  {
   "cell_type": "code",
   "execution_count": 1,
   "metadata": {},
   "outputs": [
    {
     "name": "stdout",
     "output_type": "stream",
     "text": [
      "extremos: 6.95 [t/m]\n",
      "centro: 10.91 [t/m]\n",
      "area: 1200 [cm2]\n",
      "inercia: 160000.0 [cm4]\n",
      "E:= 23875.0 [kg/mm2]\n"
     ]
    }
   ],
   "source": [
    "# k = matriz de rigidez local\n",
    "# a = matriz de compatibilidad geometrica\n",
    "\n",
    "# K = matriz de rigidez global\n",
    "# a^t*k*a = K\n",
    "\n",
    "# F = vector de fuerzas\n",
    "\n",
    "# Epsilon = [teta_a teta_b delta]\n",
    "# sigma_p = [Ma Mb F]\n",
    "\n",
    "# T = matriz de traslacion\n",
    "# Kt = matriz de rigidez total\n",
    "\n",
    "# sumatoria de (T^t*K*T)_i = Kt\n",
    "\n",
    "# Vector de deformaciones y giros = r\n",
    "# Kt*F = r\n",
    "\n",
    "# a*r = E\n",
    "# k*E = sigma\n",
    "\n",
    "def combo(L, D, PP): return 1.6*L + 1.2*(D + PP)\n",
    "\n",
    "b = 30 # [cm]\n",
    "h = 40 # [cm]\n",
    "A = b*h # [cm2]\n",
    "I = b*h**3/12 # [cm2]\n",
    "d = 2.4 # [t/m3]\n",
    "MPa = 25\n",
    "E = round(151*(MPa*1000)**0.5, 0) # [kg/mm2]\n",
    "\n",
    "L1 = 1.5 # [t/m]\n",
    "PP = d*A*10**-4 # [t/m]\n",
    "D1 = 3.5 # [t/m]\n",
    "combo1 = round(combo(L1, D1, PP), 2)\n",
    "L2 = 2.4 # [t/m]\n",
    "D2 = 5.6 # [t/m]\n",
    "combo2 = round(combo(L2, D2, PP), 2)\n",
    "\n",
    "print('extremos:', combo1, '[t/m]')\n",
    "print('centro:', combo2, '[t/m]')\n",
    "print('area:', A, '[cm2]')\n",
    "print('inercia:', I, '[cm4]')\n",
    "print('E:=', E, '[kg/mm2]')\n"
   ]
  }
 ],
 "metadata": {
  "kernelspec": {
   "display_name": "Python 3",
   "language": "python",
   "name": "python3"
  },
  "language_info": {
   "codemirror_mode": {
    "name": "ipython",
    "version": 3
   },
   "file_extension": ".py",
   "mimetype": "text/x-python",
   "name": "python",
   "nbconvert_exporter": "python",
   "pygments_lexer": "ipython3",
   "version": "3.8.3"
  }
 },
 "nbformat": 4,
 "nbformat_minor": 4
}

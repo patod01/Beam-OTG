{
 "cells": [
  {
   "cell_type": "code",
   "execution_count": 1,
   "metadata": {},
   "outputs": [],
   "source": [
    "from numpy import array, zeros, ones\n",
    "from numpy.linalg import inv, solve\n",
    "def line(): print('---- -- - -- ----')"
   ]
  },
  {
   "cell_type": "markdown",
   "metadata": {},
   "source": [
    "## Input de Usuario\n",
    "\n",
    "Para poder ingresar los datos al programa, se espera que el usuario\n",
    "ingrese en un orden establecido la siguiente informacion para la\n",
    "correcta definicion de los marcos a analizar.\n",
    "\n",
    "123456789012345678901234567890123456789012345678901234567890123456789"
   ]
  },
  {
   "cell_type": "markdown",
   "metadata": {},
   "source": [
    "```\n",
    "numero de pisos          : 1\n",
    "numero habitaciones      :1\n",
    "numero de marcos         :1\n",
    "altura de piso           :300\n",
    "distancia entre columnas :200\n",
    "distancia entre marcos   :0\n",
    "\n",
    "modulo de poisson 𝜈      :0.25\n",
    "resistencia del hormigon :19.5\n",
    "densidad del hormigon    : 2500\n",
    "carga viva               :0\n",
    "\n",
    "zona sismica             :\n",
    "tipo de suelo            :\n",
    "categoria de edificacion :\n",
    "\n",
    "resistencia del acero    :\n",
    "tama;o max de columnas   :\n",
    "altura max de viga       :\n",
    "```"
   ]
  },
  {
   "cell_type": "code",
   "execution_count": 2,
   "metadata": {},
   "outputs": [
    {
     "name": "stdout",
     "output_type": "stream",
     "text": [
      "['1', '1', '1', '300', '200', '0', '0.25', '19.5', '2500', '0', '', '', '', '', '', '']\n",
      "[1, 1, 1, 300.0, 200.0, 0.0, 0.25, 19.5, 2500.0, 0.0, 'def', 'def', 'def', 'def', 'def', 'def']\n"
     ]
    }
   ],
   "source": [
    "# recuperacion de datos\n",
    "\n",
    "with open('../IO/input.txt', encoding='utf-8') as in_text:\n",
    "    in_temp = in_text.readlines()\n",
    "\n",
    "default = {\n",
    "    'numero de pisos': '1',\n",
    "    'numero habitaciones': '1',\n",
    "    'numero de marcos': '1',\n",
    "    'altura de piso': '300',\n",
    "    'distancia entre columnas': '200',\n",
    "    'distancia entre marcos': '0',\n",
    "    'modulo de poisson 𝜈': '0.25',\n",
    "    'resistencia del hormigon': '19.5',\n",
    "    'densidad del hormigon': '2500',\n",
    "    'carga viva': '0',\n",
    "    'zona sismica': 'def',\n",
    "    'tipo de suelo': 'def',\n",
    "    'categoria de edificacion': 'def',\n",
    "    'resistencia del acero': 'def',\n",
    "    'tama;o max de columnas': 'def',\n",
    "    'altura max de viga': 'def',\n",
    "}\n",
    "\n",
    "user_op = []\n",
    "user_in = []\n",
    "\n",
    "for i in in_temp:\n",
    "    if i.startswith('\\n') == False:\n",
    "        user_op.append(i.partition(':')[0].strip())\n",
    "        user_in.append(i.partition(':')[2].strip())\n",
    "print(user_in)\n",
    "del in_temp\n",
    "if user_op != list(default.keys()): raise Exception('wena')\n",
    "\n",
    "for i in range(len(user_in)):\n",
    "    if user_in[i] == '':\n",
    "        user_in[i] = list(default.values())[i]\n",
    "    elif user_in[i].isalpha() == False:\n",
    "        user_in[i] = float(user_in[i])\n",
    "for i in range(3): user_in[i] = int(user_in[i])\n",
    "print(user_in)"
   ]
  },
  {
   "cell_type": "markdown",
   "metadata": {},
   "source": [
    "## Grilla\n",
    "\n",
    "Para definir el espacio donde sera colocado cada elemento, se define\n",
    "una grilla multidimencional donde se reflejaran los datos de inicio\n",
    "y fin de cada elemento (viga o columna), la interaccion entre ellos y\n",
    "los apoyos.\n",
    "\n",
    "123456789012345678901234567890123456789012345678901234567890123456789"
   ]
  },
  {
   "cell_type": "code",
   "execution_count": 3,
   "metadata": {},
   "outputs": [],
   "source": [
    "class Grilla():\n",
    "    def __init__(grid, roofs, rooms, frames, height, width, depth):\n",
    "        grid.roofs = roofs\n",
    "        grid.rooms = rooms\n",
    "        grid.frames = frames\n",
    "        grid.nodes = [i for i in range(1, roofs*(rooms + 1)*frames + 1)]\n",
    "        grid.foots = (rooms + 1)*frames\n",
    "        print(grid.nodes, grid.foots) # del"
   ]
  },
  {
   "cell_type": "code",
   "execution_count": 4,
   "metadata": {},
   "outputs": [],
   "source": [
    "def set_frames(roofs, rooms, frames, height, width, depth):\n",
    "    MARCOS = (\n",
    "        Grilla(roofs, rooms, frames, height, width, depth),\n",
    "        Grilla(roofs, rooms, 1, height, width, depth),\n",
    "        Grilla(roofs, frames - 1, 1, height, width, depth),\n",
    "        Grilla(1, rooms, frames, height, width, depth)\n",
    "    )\n",
    "    return MARCOS"
   ]
  },
  {
   "cell_type": "code",
   "execution_count": 5,
   "metadata": {
    "scrolled": true
   },
   "outputs": [
    {
     "name": "stdout",
     "output_type": "stream",
     "text": [
      "[1, 2, 3, 4, 5, 6, 7, 8, 9, 10, 11, 12, 13, 14, 15, 16] 8\n"
     ]
    }
   ],
   "source": [
    "malla = Grilla(2, 3, 2, 0, 0, 0)"
   ]
  },
  {
   "cell_type": "code",
   "execution_count": 6,
   "metadata": {},
   "outputs": [
    {
     "name": "stdout",
     "output_type": "stream",
     "text": [
      "[1, 2, 3, 4, 5, 6, 7, 8] 4\n"
     ]
    }
   ],
   "source": [
    "mallaXY = Grilla(2, 3, 1, 0, 0, 0)"
   ]
  },
  {
   "cell_type": "code",
   "execution_count": 7,
   "metadata": {},
   "outputs": [
    {
     "name": "stdout",
     "output_type": "stream",
     "text": [
      "[1, 2, 3, 4] 2\n"
     ]
    }
   ],
   "source": [
    "mallaZY = Grilla(2, 1, 1, 0, 0, 0)"
   ]
  },
  {
   "cell_type": "code",
   "execution_count": 8,
   "metadata": {},
   "outputs": [
    {
     "name": "stdout",
     "output_type": "stream",
     "text": [
      "[1, 2, 3, 4, 5, 6, 7, 8] 8\n"
     ]
    }
   ],
   "source": [
    "mallaZX = Grilla(1,3,2, 0, 0, 0)"
   ]
  },
  {
   "cell_type": "code",
   "execution_count": 9,
   "metadata": {},
   "outputs": [
    {
     "name": "stdout",
     "output_type": "stream",
     "text": [
      "[1, 2, 3, 4, 5, 6, 7, 8, 9, 10, 11, 12, 13, 14, 15, 16] 8\n",
      "[1, 2, 3, 4] 2\n",
      "[1, 2, 3, 4, 5, 6, 7, 8] 4\n",
      "[1, 2, 3, 4, 5, 6, 7, 8] 8\n"
     ]
    }
   ],
   "source": [
    "set_frames(2, 1, 4, 0, 0, 0);"
   ]
  },
  {
   "cell_type": "markdown",
   "metadata": {},
   "source": [
    "## Cargas nodales\n",
    "\n",
    "A partir de un analisis de una viga doblemente empotrada, se calculan\n",
    "las reacciones de esta para cada caso, considerando la continuidad de\n",
    "una losa que descargue sobre el marco. Para esto se consideran las\n",
    "formulas de empotramiento perfecto de cargas lineales y continuas. De\n",
    "este modo, se obtiene la carga trapezoidal resultante de la\n",
    "superposicion de tres casos de cargas por viga.\n",
    "\n",
    "123456789012345678901234567890123456789012345678901234567890123456789"
   ]
  },
  {
   "cell_type": "markdown",
   "metadata": {},
   "source": [
    "### Formula Carga Constante"
   ]
  },
  {
   "cell_type": "code",
   "execution_count": 10,
   "metadata": {},
   "outputs": [],
   "source": [
    "def q_rec(L, q, a, b, d):\n",
    "    Ra = q*d/L**3*((2*a + L)*b**2 + (a - b)/4*d**2)\n",
    "    Rb = q*d/L**3*((2*b + L)*a**2 - (a - b)/4*d**2)\n",
    "    Ma = q*d/L**2*(a*b**2 + d**2/12*(L - 3*b))\n",
    "    Mb = -q*d/L**2*(a**2*b + d**2/12*(L - 3*a))\n",
    "\n",
    "    print(round(Ra, 1), round(Rb, 1), round(Ma, 1), round(Mb, 1))\n",
    "    return Ra, Rb, Ma, Mb"
   ]
  },
  {
   "cell_type": "code",
   "execution_count": 11,
   "metadata": {},
   "outputs": [
    {
     "name": "stdout",
     "output_type": "stream",
     "text": [
      "521.1 678.9 242.1 -279.9\n"
     ]
    }
   ],
   "source": [
    "l = 2\n",
    "q = 1000\n",
    "d = 1.2\n",
    "a = 0.5 + d/2\n",
    "b = l - a\n",
    "\n",
    "q_rec(l, q, a, b, d);"
   ]
  },
  {
   "cell_type": "markdown",
   "metadata": {},
   "source": [
    "### Formula Carga Lineal"
   ]
  },
  {
   "cell_type": "code",
   "execution_count": 12,
   "metadata": {},
   "outputs": [],
   "source": [
    "def q_tri(L, q, a):\n",
    "    Ra = q*a/20*(10 - a**2/L**2*(15 - 8*a/L))\n",
    "    Rb = q*a**3/(20*L**2)*(15-8*a/L)\n",
    "    Ma = q*a**2/30*(10 - a/L*(15 - 6*a/L))\n",
    "    Mb = -q*a**3/(20*L)*(5 - 4*a/L)\n",
    "    print(round(Ra, 1), round(Rb, 1), round(Ma, 1), round(Mb, 1))\n",
    "    return Ra, Rb, Ma, Mb"
   ]
  },
  {
   "cell_type": "code",
   "execution_count": 13,
   "metadata": {},
   "outputs": [
    {
     "name": "stdout",
     "output_type": "stream",
     "text": [
      "229.7 20.3 55.2 -12.5\n"
     ]
    }
   ],
   "source": [
    "l = 2\n",
    "q = 1000\n",
    "a = 0.5\n",
    "b = l - a\n",
    "\n",
    "q_tri(l, q, a);"
   ]
  },
  {
   "cell_type": "code",
   "execution_count": 14,
   "metadata": {},
   "outputs": [
    {
     "name": "stdout",
     "output_type": "stream",
     "text": [
      "229.7 20.3 55.2 -12.5\n",
      "521.1 678.9 242.1 -279.9\n",
      "145.3 4.7 23.7 -3.0\n",
      "---- -- - -- ----\n",
      "Va: 755.4\n",
      "Vb: 844.6\n",
      "Ma: 300.3\n",
      "Mb: -316.1\n"
     ]
    }
   ],
   "source": [
    "# superposicion de casos de carga de una viga cualquiera\n",
    "\n",
    "r = [[],[],[]]\n",
    "joints = []\n",
    "\n",
    "L = 2\n",
    "a = 0.5\n",
    "b = 0.3\n",
    "d = 1.2\n",
    "q = 1000\n",
    "\n",
    "*r[0], = q_tri(L, q, a)\n",
    "*r[1], = q_rec(L, q, a + d/2, b + d/2, d)\n",
    "*r[2], = q_tri(L, q, b)\n",
    "\n",
    "r[2][0], r[2][1] = r[2][1], r[2][0]\n",
    "r[2][2], r[2][3] = -r[2][3], -r[2][2]\n",
    "\n",
    "for i in range(4):\n",
    "    joints.append(0)\n",
    "    for j in range(3):\n",
    "        joints[i] += r[j][i]\n",
    "\n",
    "line()\n",
    "\n",
    "print('Va:', round(joints[0], 1))\n",
    "print('Vb:', round(joints[1], 1))\n",
    "print('Ma:', round(joints[2], 1))\n",
    "print('Mb:', round(joints[3], 1))"
   ]
  },
  {
   "cell_type": "markdown",
   "metadata": {},
   "source": [
    "## Definicion de Elementos\n",
    "\n",
    "A continuacion se define cada uno de los parametros y sus respectivas\n",
    "funciones para un objeto _Barra_ generico.\n",
    "\n",
    "123456789012345678901234567890123456789012345678901234567890123456789"
   ]
  },
  {
   "cell_type": "code",
   "execution_count": 15,
   "metadata": {},
   "outputs": [],
   "source": [
    "class barra():\n",
    "    # user input at init\n",
    "    # i j\n",
    "    # x0 y0 x1 y1 # [cm]\n",
    "    # b = 30 # [cm]\n",
    "    # h = 40 # [cm]\n",
    "    # ϰ = 1.2 # factor de forma de la seccion\n",
    "    # 𝜈 = 0.25 # modulo de poisson\n",
    "    # fc = 19.5 # [MPa]\n",
    "    #\n",
    "    # internals\n",
    "    # L = ((x1 - x0)**2 + (y1 - y0)**2)**0.5 # [cm]\n",
    "    # s = (y1 - y0)/L # seno\n",
    "    # c = (x1 - x0)/L # coseno\n",
    "    # A = b*h # [cm2]\n",
    "    # I = b*h**3/12 # [cm4]\n",
    "    # E = (15100*(fc*1000)**0.5/100)/0.01 # [kg/mm2]/0.01 = [kg/cm2]\n",
    "    # G = E/(2*(1+𝜈)) # modulo de cizalle\n",
    "    # β = 6*E*I*ϰ/(G*A*L**2)\n",
    "    # k11 = 2*E*I*(2 + β)/(L*(1 + 2*β))\n",
    "    # k12 = 2*E*I*(1 - β)/(L*(1 + 2*β))\n",
    "    # k21 = k12\n",
    "    # k22 = k11\n",
    "    # k33 = A*E/L\n",
    "    # k = array([\n",
    "    #     [k11, k12, 0],\n",
    "    #     [k21, k22, 0],\n",
    "    #     [0,   0,   k33]\n",
    "    # ]) # rigidez local\n",
    "    # a = array([\n",
    "    #     [-s/L, c/L, 1,  s/L, -c/L, 0],\n",
    "    #     [-s/L, c/L, 0,  s/L, -c/L, 1],\n",
    "    #     [c,    s,   0, -c,   -s,   0]\n",
    "    # ]) # compatibilidad geometrica\n",
    "    # K = a.T@k@a\n",
    "    # σ = k@a@T@r_global\n",
    "\n",
    "    def __init__(bar, nodos, i, j, x0, y0, x1, y1, b, h, ϰ, 𝜈, fc):\n",
    "        #### ## input ## ####\n",
    "        bar.i = i # nodo A\n",
    "        bar.j = j # nodo B\n",
    "        bar.x0 = x0 # [cm]\n",
    "        bar.y0 = y0 # [cm]\n",
    "        bar.x1 = x1 # [cm]\n",
    "        bar.y1 = y1 # [cm]\n",
    "        bar.b = b # [cm]\n",
    "        bar.h = h # [cm]\n",
    "        bar.ϰ = ϰ # factor de forma de la seccion\n",
    "        bar.𝜈 = 𝜈 # modulo de poisson\n",
    "        bar.fc = fc # [MPa]\n",
    "\n",
    "        #### ## internals ## ####\n",
    "        bar.GdL(i, j, nodos)\n",
    "\n",
    "        bar.L = ((x1 - x0)**2 + (y1 - y0)**2)**0.5 # [cm]\n",
    "        bar.s = (y1 - y0)/bar.L # seno\n",
    "        bar.c = (x1 - x0)/bar.L # coseno\n",
    "        bar.A = b*h # [cm2]\n",
    "        bar.I = b*h**3/12 # [cm4]\n",
    "        bar.E = 𝛾**1.5*0.043*fc**0.5/9.80665/0.01 # [kg/mm2]/0.01 = [kg/cm2]\n",
    "        bar.G = bar.E/(2*(1+𝜈)) # modulo de cizalle\n",
    "        bar.β = 6*bar.E*bar.I*ϰ/(bar.G*bar.A*bar.L**2)\n",
    "\n",
    "        bar.rigidez_local(bar.L, bar.A, bar.I, bar.E, bar.β)\n",
    "        bar.compatibilidad_geometrica(bar.s, bar.c, bar.L)\n",
    "\n",
    "        bar.K = bar.a.T@bar.k@bar.a # rigidez global\n",
    "        \n",
    "    def GdL(bar, a, b, nodos, tipo=''):\n",
    "        bar.T = zeros([6, 3*nodos])\n",
    "        if a > nodos or b > nodos:\n",
    "            print('index error')\n",
    "            return\n",
    "        if a < 0 or b < 0:\n",
    "            print('index error')\n",
    "            return\n",
    "        if a != 0:\n",
    "            bar.T[0, 3*a - 3] = 1\n",
    "            bar.T[1, 3*a - 2] = 1\n",
    "            bar.T[2, 3*a - 1] = 1\n",
    "        if b != 0:\n",
    "            bar.T[3, 3*b - 3] = 1\n",
    "            bar.T[4, 3*b - 2] = 1\n",
    "            bar.T[5, 3*b - 1] = 1\n",
    "\n",
    "    def compatibilidad_geometrica(bar, s, c, L):\n",
    "        bar.a = array([\n",
    "            [-s/L, c/L, 1,  s/L, -c/L, 0],\n",
    "            [-s/L, c/L, 0,  s/L, -c/L, 1],\n",
    "            [ c,   s,   0, -c,   -s,   0]\n",
    "        ])\n",
    "\n",
    "    def rigidez_local(bar, L, A, I, E, β):\n",
    "        k11 = 2*E*I*(2 + β)/(L*(1 + 2*β))\n",
    "        k12 = 2*E*I*(1 - β)/(L*(1 + 2*β))\n",
    "        k21 = k12\n",
    "        k22 = k11\n",
    "        k33 = A*E/L\n",
    "        bar.k = array([\n",
    "            [k11, k12, 0  ],\n",
    "            [k21, k22, 0  ],\n",
    "            [0,   0,   k33]\n",
    "        ])\n",
    "\n",
    "    def sigma(bar, r_global):\n",
    "        # σ = k@ε\n",
    "        # ε = a@r_i\n",
    "        # r_i = T@r\n",
    "        # σ = k@a@T@r\n",
    "        bar.σ = bar.k@bar.a@bar.T@r_global # esfuerzos\n",
    "\n",
    "    r = 0 # desplazamientos - sin uso\n",
    "    ε = 0 # deformaciones - sin uso\n",
    "    σ = 0 # esfuerzos"
   ]
  },
  {
   "cell_type": "code",
   "execution_count": 16,
   "metadata": {},
   "outputs": [
    {
     "ename": "NameError",
     "evalue": "name 'γ' is not defined",
     "output_type": "error",
     "traceback": [
      "\u001b[1;31m---------------------------------------------------------------------------\u001b[0m",
      "\u001b[1;31mNameError\u001b[0m                                 Traceback (most recent call last)",
      "\u001b[1;32m<ipython-input-16-fe31498f37d6>\u001b[0m in \u001b[0;36m<module>\u001b[1;34m\u001b[0m\n\u001b[0;32m      1\u001b[0m \u001b[1;31m#__init__(nodos, i, j,  x0, y0, x1,  y1,  b,  h, ϰ,    𝜈,   fc)\u001b[0m\u001b[1;33m\u001b[0m\u001b[1;33m\u001b[0m\u001b[1;33m\u001b[0m\u001b[0m\n\u001b[1;32m----> 2\u001b[1;33m \u001b[0mcol\u001b[0m \u001b[1;33m=\u001b[0m \u001b[0mbarra\u001b[0m\u001b[1;33m(\u001b[0m  \u001b[1;36m5\u001b[0m\u001b[1;33m,\u001b[0m \u001b[1;36m2\u001b[0m\u001b[1;33m,\u001b[0m \u001b[1;36m5\u001b[0m\u001b[1;33m,\u001b[0m \u001b[1;36m200\u001b[0m\u001b[1;33m,\u001b[0m \u001b[1;36m0\u001b[0m\u001b[1;33m,\u001b[0m \u001b[1;36m200\u001b[0m\u001b[1;33m,\u001b[0m \u001b[1;36m300\u001b[0m\u001b[1;33m,\u001b[0m \u001b[1;36m30\u001b[0m\u001b[1;33m,\u001b[0m \u001b[1;36m40\u001b[0m\u001b[1;33m,\u001b[0m \u001b[1;36m0\u001b[0m\u001b[1;33m,\u001b[0m \u001b[1;36m0.25\u001b[0m\u001b[1;33m,\u001b[0m \u001b[1;36m19.5\u001b[0m\u001b[1;33m)\u001b[0m\u001b[1;33m\u001b[0m\u001b[1;33m\u001b[0m\u001b[0m\n\u001b[0m\u001b[0;32m      3\u001b[0m \u001b[0mprint\u001b[0m\u001b[1;33m(\u001b[0m\u001b[0mcol\u001b[0m\u001b[1;33m.\u001b[0m\u001b[0mT\u001b[0m\u001b[1;33m.\u001b[0m\u001b[0mT\u001b[0m\u001b[1;33m@\u001b[0m\u001b[0mones\u001b[0m\u001b[1;33m(\u001b[0m\u001b[1;33m(\u001b[0m\u001b[1;36m6\u001b[0m\u001b[1;33m,\u001b[0m \u001b[1;36m6\u001b[0m\u001b[1;33m)\u001b[0m\u001b[1;33m)\u001b[0m\u001b[1;33m@\u001b[0m\u001b[0mcol\u001b[0m\u001b[1;33m.\u001b[0m\u001b[0mT\u001b[0m\u001b[1;33m)\u001b[0m\u001b[1;33m\u001b[0m\u001b[1;33m\u001b[0m\u001b[0m\n",
      "\u001b[1;32m<ipython-input-15-1f989dbc9ea0>\u001b[0m in \u001b[0;36m__init__\u001b[1;34m(bar, nodos, i, j, x0, y0, x1, y1, b, h, κ, ν, fc)\u001b[0m\n\u001b[0;32m     58\u001b[0m         \u001b[0mbar\u001b[0m\u001b[1;33m.\u001b[0m\u001b[0mA\u001b[0m \u001b[1;33m=\u001b[0m \u001b[0mb\u001b[0m\u001b[1;33m*\u001b[0m\u001b[0mh\u001b[0m \u001b[1;31m# [cm2]\u001b[0m\u001b[1;33m\u001b[0m\u001b[1;33m\u001b[0m\u001b[0m\n\u001b[0;32m     59\u001b[0m         \u001b[0mbar\u001b[0m\u001b[1;33m.\u001b[0m\u001b[0mI\u001b[0m \u001b[1;33m=\u001b[0m \u001b[0mb\u001b[0m\u001b[1;33m*\u001b[0m\u001b[0mh\u001b[0m\u001b[1;33m**\u001b[0m\u001b[1;36m3\u001b[0m\u001b[1;33m/\u001b[0m\u001b[1;36m12\u001b[0m \u001b[1;31m# [cm4]\u001b[0m\u001b[1;33m\u001b[0m\u001b[1;33m\u001b[0m\u001b[0m\n\u001b[1;32m---> 60\u001b[1;33m         \u001b[0mbar\u001b[0m\u001b[1;33m.\u001b[0m\u001b[0mE\u001b[0m \u001b[1;33m=\u001b[0m \u001b[0m𝛾\u001b[0m\u001b[1;33m**\u001b[0m\u001b[1;36m1.5\u001b[0m\u001b[1;33m*\u001b[0m\u001b[1;36m0.043\u001b[0m\u001b[1;33m*\u001b[0m\u001b[0mfc\u001b[0m\u001b[1;33m**\u001b[0m\u001b[1;36m0.5\u001b[0m\u001b[1;33m/\u001b[0m\u001b[1;36m9.80665\u001b[0m\u001b[1;33m/\u001b[0m\u001b[1;36m0.01\u001b[0m \u001b[1;31m# [kg/mm2]/0.01 = [kg/cm2]\u001b[0m\u001b[1;33m\u001b[0m\u001b[1;33m\u001b[0m\u001b[0m\n\u001b[0m\u001b[0;32m     61\u001b[0m         \u001b[0mbar\u001b[0m\u001b[1;33m.\u001b[0m\u001b[0mG\u001b[0m \u001b[1;33m=\u001b[0m \u001b[0mbar\u001b[0m\u001b[1;33m.\u001b[0m\u001b[0mE\u001b[0m\u001b[1;33m/\u001b[0m\u001b[1;33m(\u001b[0m\u001b[1;36m2\u001b[0m\u001b[1;33m*\u001b[0m\u001b[1;33m(\u001b[0m\u001b[1;36m1\u001b[0m\u001b[1;33m+\u001b[0m\u001b[0m𝜈\u001b[0m\u001b[1;33m)\u001b[0m\u001b[1;33m)\u001b[0m \u001b[1;31m# modulo de cizalle\u001b[0m\u001b[1;33m\u001b[0m\u001b[1;33m\u001b[0m\u001b[0m\n\u001b[0;32m     62\u001b[0m         \u001b[0mbar\u001b[0m\u001b[1;33m.\u001b[0m\u001b[0mβ\u001b[0m \u001b[1;33m=\u001b[0m \u001b[1;36m6\u001b[0m\u001b[1;33m*\u001b[0m\u001b[0mbar\u001b[0m\u001b[1;33m.\u001b[0m\u001b[0mE\u001b[0m\u001b[1;33m*\u001b[0m\u001b[0mbar\u001b[0m\u001b[1;33m.\u001b[0m\u001b[0mI\u001b[0m\u001b[1;33m*\u001b[0m\u001b[0mϰ\u001b[0m\u001b[1;33m/\u001b[0m\u001b[1;33m(\u001b[0m\u001b[0mbar\u001b[0m\u001b[1;33m.\u001b[0m\u001b[0mG\u001b[0m\u001b[1;33m*\u001b[0m\u001b[0mbar\u001b[0m\u001b[1;33m.\u001b[0m\u001b[0mA\u001b[0m\u001b[1;33m*\u001b[0m\u001b[0mbar\u001b[0m\u001b[1;33m.\u001b[0m\u001b[0mL\u001b[0m\u001b[1;33m**\u001b[0m\u001b[1;36m2\u001b[0m\u001b[1;33m)\u001b[0m\u001b[1;33m\u001b[0m\u001b[1;33m\u001b[0m\u001b[0m\n",
      "\u001b[1;31mNameError\u001b[0m: name 'γ' is not defined"
     ]
    }
   ],
   "source": [
    "#__init__(nodos, i, j,  x0, y0, x1,  y1,  b,  h, ϰ,    𝜈,   fc)\n",
    "col = barra(  5, 2, 5, 200, 0, 200, 300, 30, 40, 0, 0.25, 19.5)\n",
    "print(col.T.T@ones((6, 6))@col.T)"
   ]
  }
 ],
 "metadata": {
  "kernelspec": {
   "display_name": "Python 3",
   "language": "python",
   "name": "python3"
  },
  "language_info": {
   "codemirror_mode": {
    "name": "ipython",
    "version": 3
   },
   "file_extension": ".py",
   "mimetype": "text/x-python",
   "name": "python",
   "nbconvert_exporter": "python",
   "pygments_lexer": "ipython3",
   "version": "3.9.1"
  }
 },
 "nbformat": 4,
 "nbformat_minor": 4
}
